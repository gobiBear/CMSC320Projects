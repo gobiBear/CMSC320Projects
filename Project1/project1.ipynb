{
 "cells": [
  {
   "cell_type": "markdown",
   "id": "17f7374c",
   "metadata": {},
   "source": [
    "## Part 1\n",
    "\n",
    "**Step 1:**\n",
    "\n",
    "In this step we turn the data from Space Weather Live into a dataframe. <br>\n",
    "First print html content to find where table is stored\n",
    "(this can also be done using inspect in the browser)."
   ]
  },
  {
   "cell_type": "code",
   "execution_count": 102,
   "id": "d58ba662",
   "metadata": {},
   "outputs": [],
   "source": [
    "# Necessary imports\n",
    "from bs4 import BeautifulSoup as bs\n",
    "import numpy as np\n",
    "import requests\n",
    "import pandas as pd\n",
    "import sys\n",
    "import matplotlib.pyplot as plt\n",
    "import re\n",
    "\n",
    "\n",
    "# Make get request using requests lib\n",
    "url = \"https://www.spaceweatherlive.com/en/solar-activity/top-50-solar-flares.html\"\n",
    "r = requests.get(url)\n",
    "status_code = r.status_code\n",
    "\n",
    "\n",
    "# If bad status code do sys.exit()\n",
    "if(status_code != 200):\n",
    "    sys.exit(\"GET request failed\")\n",
    "    \n",
    "# Grab content from request and use beautifulsoup to parse it\n",
    "content = r.content\n",
    "soup = bs(content, 'html.parser')\n",
    "\n",
    "# Use prettify to look at html code\n",
    "html = soup.prettify()\n",
    "\n",
    "\n"
   ]
  },
  {
   "cell_type": "markdown",
   "id": "9e4dfff4",
   "metadata": {},
   "source": [
    "Table can be found in div container with class \"table-responsive-md\".\n",
    "\n",
    "Now we take the table and turn it into a dataframe."
   ]
  },
  {
   "cell_type": "code",
   "execution_count": 2,
   "id": "dc95846b",
   "metadata": {},
   "outputs": [
    {
     "name": "stdout",
     "output_type": "stream",
     "text": [
      "1\n",
      "   rank x_class        date  region start_time max_time end_time  \\\n",
      "1     1    X28+  2003/11/04     486      19:29    19:53    20:06   \n",
      "2     2    X20+  2001/04/02    9393      21:32    21:51    22:03   \n",
      "3     3  X17.2+  2003/10/28     486      09:51    11:10    11:24   \n",
      "4     4    X17+  2005/09/07     808      17:17    17:40    18:03   \n",
      "5     5   X14.4  2001/04/15    9415      13:19    13:50    13:55   \n",
      "\n",
      "                 movie  \n",
      "1  Movie  View archive  \n",
      "2  Movie  View archive  \n",
      "3  Movie  View archive  \n",
      "4  Movie  View archive  \n",
      "5  Movie  View archive  \n"
     ]
    }
   ],
   "source": [
    "# Grab table\n",
    "table_soup = soup.find(\"div\", class_=\"table-responsive-md\")\n",
    "table_html = table_soup.prettify()\n",
    "\n",
    "# Define columns\n",
    "columns = [\"rank\", \"x_class\", \"date\", \"region\", \"start_time\", \"max_time\", \"end_time\", \"movie\"]\n",
    "\n",
    "# Create dataframe using pandas read_html function\n",
    "table = pd.read_html(table_html)\n",
    "print(len(table))\n",
    "swl_df = table[0]\n",
    "swl_df.columns = columns\n",
    "swl_df.index += 1\n",
    "\n",
    "print(swl_df.head())"
   ]
  },
  {
   "cell_type": "markdown",
   "id": "522183f8",
   "metadata": {},
   "source": [
    "Here we see the head (first five entries) of the dataframe.\n",
    "\n",
    "**Step 2:**\n",
    "\n",
    "In this step we tidy up the Space Weather Live dataframe."
   ]
  },
  {
   "cell_type": "code",
   "execution_count": 3,
   "id": "ec184849",
   "metadata": {},
   "outputs": [
    {
     "name": "stdout",
     "output_type": "stream",
     "text": [
      "   rank x_class  region      start_datetime        max_datetime  \\\n",
      "1     1    X28+     486 2003-11-04 19:29:00 2003-11-04 19:53:00   \n",
      "2     2    X20+    9393 2001-04-02 21:32:00 2001-04-02 21:51:00   \n",
      "3     3  X17.2+     486 2003-10-28 09:51:00 2003-10-28 11:10:00   \n",
      "4     4    X17+     808 2005-09-07 17:17:00 2005-09-07 17:40:00   \n",
      "5     5   X14.4    9415 2001-04-15 13:19:00 2001-04-15 13:50:00   \n",
      "\n",
      "         end_datetime  \n",
      "1 2003-11-04 20:06:00  \n",
      "2 2001-04-02 22:03:00  \n",
      "3 2003-10-28 11:24:00  \n",
      "4 2005-09-07 18:03:00  \n",
      "5 2001-04-15 13:55:00  \n"
     ]
    }
   ],
   "source": [
    "# remove last column\n",
    "swl_df.drop(swl_df.columns[len(swl_df.columns)-1], axis=1, inplace=True)\n",
    "\n",
    "# combine time columns with date column and change to type datetime\n",
    "swl_df[\"start_time\"] = pd.to_datetime(swl_df['date'] + ' ' + swl_df['start_time'])\n",
    "swl_df[\"max_time\"] = pd.to_datetime(swl_df['date'] + ' ' + swl_df['max_time'])\n",
    "swl_df[\"end_time\"] = pd.to_datetime(swl_df['date'] + ' ' + swl_df['end_time'])\n",
    "\n",
    "# remove date column and rename time columns\n",
    "swl_df.drop(labels=\"date\", axis=1, inplace=True)\n",
    "swl_df.rename(columns={'start_time': 'start_datetime', 'max_time': 'max_datetime', 'end_time': 'end_datetime'}, inplace=True)\n",
    "\n",
    "# Change empty regions to numpy nan\n",
    "swl_df[\"region\"].replace('-', np.nan, inplace=True)\n",
    "print(swl_df.head())"
   ]
  },
  {
   "cell_type": "markdown",
   "id": "2c18dd7d",
   "metadata": {},
   "source": [
    "Again this is just the head of the dataframe\n",
    "\n",
    "**Step 3:** <br>\n",
    "In this step we turn the data from NASA into a dataframe.<br>\n",
    "Instead of using beautifulsoup to print the html code, I used the inspect feature in the browser to find the tag that stored the table. The relevatn tag was the pre tag."
   ]
  },
  {
   "cell_type": "code",
   "execution_count": 47,
   "id": "aa9bc12e",
   "metadata": {},
   "outputs": [
    {
     "name": "stdout",
     "output_type": "stream",
     "text": [
      "   start_date start_time end_date end_time start_frequency end_frequency  \\\n",
      "1  1997/04/01      14:00    04/01    14:15            8000          4000   \n",
      "2  1997/04/07      14:30    04/07    17:30           11000          1000   \n",
      "3  1997/05/12      05:15    05/14    16:00           12000            80   \n",
      "4  1997/05/21      20:20    05/21    22:00            5000           500   \n",
      "5  1997/09/23      21:53    09/23    22:16            6000          2000   \n",
      "\n",
      "  flare_location flare_region flare_importance cme_date cme_time cme_angle  \\\n",
      "1         S25E16         8026             M1.3    04/01    15:18        74   \n",
      "2         S28E19         8027             C6.8    04/07    14:27      Halo   \n",
      "3         N21W08         8038             C1.3    05/12    05:30      Halo   \n",
      "4         N05W12         8040             M1.3    05/21    21:00       263   \n",
      "5         S29E25         8088             C1.4    09/23    22:02       133   \n",
      "\n",
      "  cme_width cme_speed  plot  \n",
      "1        79       312  PHTX  \n",
      "2       360       878  PHTX  \n",
      "3       360       464  PHTX  \n",
      "4       165       296  PHTX  \n",
      "5       155       712  PHTX  \n"
     ]
    }
   ],
   "source": [
    "# Step 3\n",
    "\n",
    "# Make get request using requests lib\n",
    "url = 'https://cdaw.gsfc.nasa.gov/CME_list/radio/waves_type2.html'\n",
    "r = requests.get(url)\n",
    "status_code = r.status_code\n",
    "\n",
    "# If bad status code do sys.exit()\n",
    "if(status_code != 200):\n",
    "    sys.exit('GET request failed')\n",
    "    \n",
    "# Grab content from get request\n",
    "content = r.content\n",
    "soup = bs(content, 'html.parser')\n",
    "\n",
    "# Grab html code with pre tag\n",
    "table_soup = soup.find('pre')\n",
    "\n",
    "# Table starts at line 13 of pre tag and ends on line before end of pre tag\n",
    "data = table_soup.get_text().splitlines()[12:-1]\n",
    "\n",
    "# Name columns\n",
    "columns = ['start_date', 'start_time', 'end_date', 'end_time', 'start_frequency', 'end_frequency', 'flare_location', 'flare_region',\n",
    "           'flare_importance', 'cme_date', 'cme_time', 'cme_angle', 'cme_width', 'cme_speed', 'plot']\n",
    "\n",
    "# Iterate through every line in pre tag, split by spaces, append to rows array\n",
    "rows = []\n",
    "for line in data:\n",
    "    row = line.split()[0:15] # Only 15 columns in table\n",
    "    rows.append(row)\n",
    "\n",
    "# Create dataframe from rows array\n",
    "nasa_df = pd.DataFrame(rows, columns=columns)\n",
    "nasa_df.index += 1\n",
    "print(nasa_df.head())"
   ]
  },
  {
   "cell_type": "markdown",
   "id": "6e4ef2d6",
   "metadata": {},
   "source": [
    "This is the head of the NASA dataframe\n",
    "\n",
    "**Step 4:** <br>\n",
    "In this step we tidy up the Space Weather Live dataframe."
   ]
  },
  {
   "cell_type": "code",
   "execution_count": 49,
   "id": "18c2c240",
   "metadata": {},
   "outputs": [
    {
     "name": "stdout",
     "output_type": "stream",
     "text": [
      "       start_datetime      end_datetime start_frequency end_frequency  \\\n",
      "1 1997-04-01 14:00:00  1997/04/01 14:15            8000          4000   \n",
      "2 1997-04-07 14:30:00  1997/04/07 17:30           11000          1000   \n",
      "3 1997-05-12 05:15:00  1997/05/14 16:00           12000            80   \n",
      "4 1997-05-21 20:20:00  1997/05/21 22:00            5000           500   \n",
      "5 1997-09-23 21:53:00  1997/09/23 22:16            6000          2000   \n",
      "\n",
      "  flare_location flare_region flare_importance        cme_datetime cme_angle  \\\n",
      "1         S25E16         8026             M1.3 1997-04-01 15:18:00        74   \n",
      "2         S28E19         8027             C6.8 1997-04-07 14:27:00        NA   \n",
      "3         N21W08         8038             C1.3 1997-05-12 05:30:00        NA   \n",
      "4         N05W12         8040             M1.3 1997-05-21 21:00:00       263   \n",
      "5         S29E25         8088             C1.4 1997-09-23 22:02:00       133   \n",
      "\n",
      "  cme_width cme_speed  plot  is_halo  width_lower_bound  \n",
      "1        79       312  PHTX    False              False  \n",
      "2       360       878  PHTX     True              False  \n",
      "3       360       464  PHTX     True              False  \n",
      "4       165       296  PHTX    False              False  \n",
      "5       155       712  PHTX    False              False  \n"
     ]
    }
   ],
   "source": [
    "# Remove all unwanted/empty cells with numpy nan\n",
    "\n",
    "nasa_df['flare_location'].replace('------', np.nan, inplace=True)\n",
    "nasa_df['flare_region'].replace('-----', np.nan, inplace=True)\n",
    "nasa_df['flare_importance'].replace('----', np.nan, inplace=True)\n",
    "nasa_df['flare_importance'].replace('FILA', np.nan, inplace=True)\n",
    "nasa_df['cme_date'].replace('--/--', np.nan, inplace=True)\n",
    "nasa_df['cme_time'].replace('--:--', np.nan, inplace=True)\n",
    "nasa_df['cme_angle'].replace('----', np.nan, inplace=True)\n",
    "nasa_df['cme_width'].replace('----', np.nan, inplace=True)\n",
    "nasa_df['cme_speed'].replace('----', np.nan, inplace=True)\n",
    "nasa_df['plot'].replace('----', np.nan, inplace=True)\n",
    "nasa_df['start_frequency'].replace('????', np.nan, inplace=True)\n",
    "nasa_df['end_frequency'].replace('????', np.nan, inplace=True)\n",
    "\n",
    "# Create boolean column for cme_angle being halo or not\n",
    "nasa_df['is_halo'] = np.where(nasa_df['cme_angle'] == 'Halo', True, False)\n",
    "\n",
    "# Create boolean column for cme_width being lower bound or not\n",
    "nasa_df['width_lower_bound'] = np.where(nasa_df['cme_width'].str.contains('>') , True, False)\n",
    "\n",
    "# Fix columns to not have redundant\n",
    "nasa_df['cme_angle'].replace('Halo', 'NA', inplace=True)\n",
    "nasa_df['cme_width'] = nasa_df['cme_width'].str.replace('\\D', '', regex=True)\n",
    "\n",
    "# Combine times with the date\n",
    "nasa_df[\"start_time\"] = pd.to_datetime(nasa_df['start_date'] + ' ' + nasa_df['start_time'], errors='ignore')\n",
    "nasa_df[\"end_time\"] = pd.to_datetime(nasa_df['start_date'].str[0:5] + nasa_df['end_date'] + ' ' + nasa_df['end_time'], errors='ignore')\n",
    "nasa_df[\"cme_time\"] = pd.to_datetime(nasa_df['start_date'].str[0:5] + nasa_df['cme_date'] + ' ' + nasa_df['cme_time'], errors='ignore')\n",
    "\n",
    "# Drope date columns and rename time columns\n",
    "nasa_df.drop(labels=['start_date', 'end_date', 'cme_date'], axis=1, inplace=True)\n",
    "nasa_df.rename(columns={'start_time': 'start_datetime', 'end_time': 'end_datetime', 'cme_time': 'cme_datetime'}, inplace=True)\n",
    "\n",
    "print(nasa_df.head())"
   ]
  },
  {
   "cell_type": "markdown",
   "id": "90ff2bad",
   "metadata": {},
   "source": [
    "This is the head of the NASA dataframe\n",
    "\n",
    "## Part 2\n",
    "\n",
    "**Question 1**\n",
    "- Can you replicate the top 50 solar flare table in SpaceWeatherLive.com exactly using the data obtained from NASA? That is, if you get the top 50 solar flares from the NASA table based on their classification (e.g., X28 is the highest), do you get data for the same solar flare events?\n",
    "\n",
    "No, using the soft xray flare importance (the parameter Space Weather Live uses) as the scale for the strongest solar flares from the data obtained from NASA does NOT provide the same top 50 solar flare table as the one from Space Weather Live."
   ]
  },
  {
   "cell_type": "code",
   "execution_count": 50,
   "id": "9c7e7b9d",
   "metadata": {},
   "outputs": [
    {
     "name": "stdout",
     "output_type": "stream",
     "text": [
      "        start_datetime flare_importance flare_region\n",
      "1  2003-11-04 20:00:00             X28.        10486\n",
      "2  2001-04-02 22:05:00             X20.         9393\n",
      "3  2003-10-28 11:10:00             X17.        10486\n",
      "4  2001-04-15 14:05:00             X14.         9415\n",
      "5  2003-10-29 20:55:00             X10.        10486\n",
      "6  1997-11-06 12:20:00             X9.4         8100\n",
      "7  2017-09-06 12:05:00             X9.3        12673\n",
      "8  2006-12-05 10:50:00             X9.0        10930\n",
      "9  2003-11-02 17:30:00             X8.3        10486\n",
      "10 2017-09-10 16:02:00             X8.3          NaN\n",
      "11 2005-01-20 07:15:00             X7.1        10720\n",
      "12 2011-08-09 08:20:00             X6.9        11263\n",
      "13 2006-12-06 19:00:00             X6.5        10930\n",
      "14 2005-09-09 19:45:00             X6.2        10808\n",
      "15 2000-07-14 10:30:00             X5.7         9077\n",
      "16 2001-04-06 19:35:00             X5.6         9415\n",
      "17 2012-03-07 01:00:00             X5.4        11429\n",
      "18 2001-08-25 16:50:00             X5.3         9591\n",
      "19 2014-02-25 00:56:00             X4.9        11990\n",
      "20 2002-07-23 00:50:00             X4.8        10039\n",
      "21 2000-11-26 17:00:00             X4.0         9236\n",
      "22 2003-11-03 10:00:00             X3.9        10488\n",
      "23 2005-01-17 10:00:00             X3.8        10720\n",
      "24 2003-05-28 01:00:00             X3.6        10365\n",
      "25 2001-12-28 20:35:00             X3.4         9756\n",
      "26 2006-12-13 02:45:00             X3.4        10930\n",
      "27 2002-07-20 21:30:00             X3.3        10039\n",
      "28 2013-05-14 01:16:00             X3.2        11748\n",
      "29 2002-08-24 01:45:00             X3.1        10069\n",
      "30 2013-05-13 16:15:00             X2.8        11748\n",
      "31 1998-05-06 08:25:00             X2.7         8210\n",
      "32 2003-11-03 01:15:00             X2.7        10488\n",
      "33 2015-05-05 22:24:00             X2.7        12339\n",
      "34 1997-11-27 13:30:00             X2.6         8113\n",
      "35 2001-09-24 10:45:00             X2.6         9632\n",
      "36 2005-01-15 23:00:00             X2.6        10720\n",
      "37 2004-11-10 02:25:00             X2.5        10696\n",
      "38 2000-06-06 15:20:00             X2.3         9026\n",
      "39 2000-11-24 15:25:00             X2.3         9236\n",
      "40 2001-04-10 05:24:00             X2.3         9415\n",
      "41 2011-02-15 02:10:00             X2.2        11158\n",
      "42 1997-11-04 06:00:00             X2.1         8100\n",
      "43 2005-09-10 21:45:00             X2.1        10808\n",
      "44 2011-09-06 22:30:00             X2.1        11283\n",
      "45 2013-10-25 15:08:00             X2.1        11882\n",
      "46 2000-11-24 05:10:00             X2.0         9236\n",
      "47 2001-04-12 10:20:00             X2.0         9415\n",
      "48 2004-11-07 16:25:00             X2.0        10696\n",
      "49 2005-01-17 09:25:00             X2.0        10720\n",
      "50 2000-11-25 19:00:00             X1.9         9236\n"
     ]
    }
   ],
   "source": [
    "# Create a copy of nasa df\n",
    "sorted_nasa_df = nasa_df.copy()\n",
    "\n",
    "# Create 2 new columns which have the letter value and number value of flare_importance on their own\n",
    "sorted_nasa_df['sort_let'] = sorted_nasa_df['flare_importance'].str[0]\n",
    "sorted_nasa_df['sort_num'] = sorted_nasa_df['flare_importance'].str.extract('(\\d+\\.\\d*)').astype(float)\n",
    "\n",
    "# Sort by flare_importance letter, then by flare_importance number, and drop these columns\n",
    "sorted_nasa_df.sort_values(['sort_let','sort_num'],inplace=True, ascending=False, ignore_index=False)\n",
    "sorted_nasa_df.drop(labels=['sort_let','sort_num'], axis=1, inplace=True)\n",
    "\n",
    "top_fifty = sorted_nasa_df.iloc[0:50]\n",
    "top_fifty_index = top_fifty.index\n",
    "top_fifty.reset_index(inplace=True)\n",
    "\n",
    "# Show top fifty from nasa\n",
    "top_fifty.index += 1\n",
    "print(top_fifty.loc[:, ['start_datetime', 'flare_importance', 'flare_region']])"
   ]
  },
  {
   "cell_type": "markdown",
   "id": "7803a67b",
   "metadata": {},
   "source": [
    "This is the start time, xray flare importance, and region of the top 50 strongest solar flares obtined from the NASA data. Visually, we can notice several differences between the Space Weather Live data and the NASA data, with the discrepancies ranging from slight changes in flare importance to flares being a day or more off from the other website. However, overall the two datasets seem to be fairly consistent at least for the top ten stronges solar flares.\n",
    "\n",
    "**Question 2**\n",
    "\n",
    "- Write a function that finds the best matching row in the NASA data for each of the top 50 solar flares in the SpaceWeatherLive data. Here, you have to decide for yourself how you determine what is the best matching entry in the NASA data for each of the top 50 solar flares.\n",
    "\n",
    "In my flareMatch function I am defining the best match to be the match that has the closes value for flare_importance."
   ]
  },
  {
   "cell_type": "code",
   "execution_count": 51,
   "id": "4f7828cf",
   "metadata": {},
   "outputs": [],
   "source": [
    "# Function to match flare from space weather live to nasa\n",
    "def flareMatch(row):\n",
    "    # Grab the letter and number values of x_class of our target flare\n",
    "    target_importance_let = row['x_class'][0]\n",
    "    target_importance_num = float(re.findall( r'\\d+\\.*\\d*',row['x_class'])[0])\n",
    "    \n",
    "    # Create 2 new columns which have the letter value and number value of flare_importance on their own\n",
    "    nasa_df['sort_let'] = nasa_df['flare_importance'].str[0]\n",
    "    nasa_df['sort_num'] = nasa_df['flare_importance'].str.extract('(\\d+\\.\\d*)').astype(float)\n",
    "    \n",
    "    # Get nasa flares with same letter classification for flare_importance as target\n",
    "    closest_flare_importance = nasa_df.loc[nasa_df['sort_let'] == target_importance_let]\n",
    "    \n",
    "    # Get nasa flares with top five closest number classification for flare_importance as target from list of nasa flares with\n",
    "    # same letter classifcation\n",
    "    closest_flare_importance = closest_flare_importance.iloc[(closest_flare_importance['sort_num']-target_importance_num ).abs().argsort()[:5]]\n",
    "    \n",
    "    # grab index of nasa flare with closest flare_importance value\n",
    "    closest_flare_importance_indices = closest_flare_importance.index\n",
    "    match = closest_flare_importance_indices[0]\n",
    "    \n",
    "    # return the grabbed index and the relevant rows rank\n",
    "    return match, row['rank']\n"
   ]
  },
  {
   "cell_type": "code",
   "execution_count": 91,
   "id": "4db8e7f4",
   "metadata": {},
   "outputs": [
    {
     "name": "stdout",
     "output_type": "stream",
     "text": [
      "        start_datetime  rank\n",
      "1  1997-04-01 14:00:00   NaN\n",
      "2  1997-04-07 14:30:00   NaN\n",
      "3  1997-05-12 05:15:00   NaN\n",
      "4  1997-05-21 20:20:00   NaN\n",
      "5  1997-09-23 21:53:00   NaN\n",
      "6  1997-11-03 05:15:00   NaN\n",
      "7  1997-11-03 10:30:00   NaN\n",
      "8  1997-11-04 06:00:00   NaN\n",
      "9  1997-11-06 12:20:00   7.0\n",
      "10 1997-11-27 13:30:00   NaN\n",
      "11 1997-12-12 22:45:00   NaN\n",
      "12 1998-01-25 15:03:00   NaN\n",
      "13 1998-03-29 03:40:00   NaN\n",
      "14 1998-04-20 10:25:00   NaN\n",
      "15 1998-04-23 06:00:00   NaN\n",
      "16 1998-04-24 09:17:00   NaN\n",
      "17 1998-04-27 09:20:00   NaN\n",
      "18 1998-04-29 16:30:00   NaN\n",
      "19 1998-05-02 14:25:00   NaN\n",
      "20 1998-05-06 08:25:00   NaN\n",
      "21 1998-05-09 03:35:00   NaN\n",
      "22 1998-05-11 21:40:00   NaN\n",
      "23 1998-05-19 10:00:00   NaN\n",
      "24 1998-05-27 13:30:00   NaN\n",
      "25 1998-06-11 10:15:00   NaN\n",
      "26 1998-06-16 18:20:00   NaN\n",
      "27 1998-06-20 19:39:00   NaN\n",
      "28 1998-06-22 07:15:00   NaN\n",
      "29 1998-11-02 14:00:00   NaN\n",
      "30 1998-11-05 22:00:00   NaN\n",
      "31 1998-11-06 03:00:00   NaN\n",
      "32 1998-11-07 00:20:00   NaN\n",
      "33 1998-11-08 11:20:00   NaN\n",
      "34 1998-12-18 17:50:00   NaN\n",
      "35 1999-04-24 13:50:00   NaN\n",
      "36 1999-05-03 05:50:00   NaN\n",
      "37 1999-05-27 10:55:00   NaN\n",
      "38 1999-06-01 18:50:00   NaN\n",
      "39 1999-06-04 07:05:00   NaN\n",
      "40 1999-06-11 11:45:00   NaN\n",
      "41 1999-06-22 18:25:00   NaN\n",
      "42 1999-06-23 05:50:00   NaN\n",
      "43 1999-06-23 07:07:00   NaN\n",
      "44 1999-06-28 21:03:00   NaN\n",
      "45 1999-06-29 19:20:00   NaN\n",
      "46 1999-07-05 03:10:00   NaN\n",
      "47 1999-08-28 18:25:00   NaN\n",
      "48 1999-09-03 03:00:00   NaN\n",
      "49 1999-09-10 07:30:00   NaN\n",
      "50 1999-10-14 09:10:00   NaN\n"
     ]
    }
   ],
   "source": [
    "# Create an array to hold the match tuples from our matching function\n",
    "matches = []\n",
    "\n",
    "# Create new column in nasa df to hold corresponding rank\n",
    "nasa_df['rank'] = np.nan\n",
    "\n",
    "# Iterrate over swl df to match each swl flare with a nasa flare and append the match to matches array\n",
    "for index, row in swl_df.iterrows():\n",
    "    matches.append(flareMatch(row))\n",
    "\n",
    "# For each match, update nasa df to show flares ranking\n",
    "for match in matches:\n",
    "    nasa_df.loc[match[0],'rank'] = match[1]\n",
    "    \n",
    "print(nasa_df.loc[0:50, ['start_datetime','rank']])\n"
   ]
  },
  {
   "cell_type": "code",
   "execution_count": 101,
   "id": "56971686",
   "metadata": {},
   "outputs": [
    {
     "name": "stdout",
     "output_type": "stream",
     "text": [
      "start_datetime    datetime64[ns]\n",
      "cme_speed                 object\n",
      "dtype: object\n"
     ]
    },
    {
     "data": {
      "image/png": "[encoded data removed]",
      "text/plain": [
       "<Figure size 432x288 with 1 Axes>"
      ]
     },
     "metadata": {
      "needs_background": "light"
     },
     "output_type": "display_data"
    }
   ],
   "source": [
    "# Get indices of top 50 flares in nasa data\n",
    "top_fifty_index = np.array(top_fifty_index)\n",
    "plot_df = nasa_df[['start_datetime', 'cme_speed']].copy()\n",
    "print(plot_df.dtypes)\n",
    "\n",
    "\n",
    "plot_df.plot(markevery=top_fifty_index, marker='o', markerfacecolor='r')\n",
    "plt.show()\n",
    "\n"
   ]
  },
  {
   "cell_type": "markdown",
   "id": "fc07bd39",
   "metadata": {},
   "source": []
  }
 ],
 "metadata": {
  "kernelspec": {
   "display_name": "Python 3 (ipykernel)",
   "language": "python",
   "name": "python3"
  },
  "language_info": {
   "codemirror_mode": {
    "name": "ipython",
    "version": 3
   },
   "file_extension": ".py",
   "mimetype": "text/x-python",
   "name": "python",
   "nbconvert_exporter": "python",
   "pygments_lexer": "ipython3",
   "version": "3.9.12"
  }
 },
 "nbformat": 4,
 "nbformat_minor": 5
}
